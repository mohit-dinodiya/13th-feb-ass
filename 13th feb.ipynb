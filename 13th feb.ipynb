{
 "cells": [
  {
   "cell_type": "markdown",
   "id": "f722d239-00e2-4088-9153-b3c2a043615d",
   "metadata": {},
   "source": [
    "# Q1. Explain why we have to use the Exception class while creating a Custom Exception.\n",
    "\n",
    "In Python, all built-in exceptions are subclasses of the Exception class. When we define a custom exception, we are essentially creating a new type of exception that can be used in our code. In order for our custom exception to have the same behavior as other exceptions in Python, we need to make sure that it inherits from the Exception class.\n",
    "\n",
    "By inheriting from Exception, our custom exception will have access to all of the functionality provided by the base class. This includes the ability to define custom error messages, access to the stack trace, and the ability to catch and handle the exception using try-except blocks.\n",
    "\n",
    "Here's an example of how to create a custom exception class that inherits from Exception:"
   ]
  },
  {
   "cell_type": "code",
   "execution_count": 1,
   "id": "4557ed01-2b5a-48b8-8746-9dbe897e4af5",
   "metadata": {},
   "outputs": [],
   "source": [
    "class CustomException(Exception):\n",
    "    pass\n"
   ]
  },
  {
   "cell_type": "markdown",
   "id": "216778b1-b0ff-46f1-83ef-4f542fcfdfe5",
   "metadata": {},
   "source": [
    "In this example, we define a new class called CustomException that inherits from Exception. Since we don't need to define any additional behavior for our custom exception, we simply use the pass statement to indicate that there are no additional instructions needed for the class.\n",
    "\n",
    "By inheriting from Exception, our CustomException class now has access to all of the functionality provided by the base class, including the ability to be caught and handled using try-except blocks. We can now use this custom exception in our code to indicate specific error conditions that we want to handle in a particular way."
   ]
  },
  {
   "cell_type": "markdown",
   "id": "35efde90-c5c2-4302-b4c9-0baf786662c4",
   "metadata": {},
   "source": [
    "# Q2. Write a python program to print Python Exception Hierarchy.\n"
   ]
  },
  {
   "cell_type": "markdown",
   "id": "035d19c8-9209-4a83-bd95-43495f958bc7",
   "metadata": {},
   "source": [
    "# Q3. What errors are defined in the ArithmeticError class? Explain any two with an example."
   ]
  },
  {
   "cell_type": "markdown",
   "id": "f4eeb0b6-0a58-4650-86c9-2f63bf68b246",
   "metadata": {},
   "source": [
    "The ArithmeticError class is a built-in Python exception class that serves as the base class for all exceptions that occur during arithmetic operations. The errors defined in this class relate to mathematical errors such as division by zero, overflow, and underflow. Here are two examples of errors defined in the ArithmeticError class:"
   ]
  },
  {
   "cell_type": "code",
   "execution_count": 2,
   "id": "8b0e5df8-b027-41eb-a9ee-96e7e9c56167",
   "metadata": {},
   "outputs": [
    {
     "name": "stdout",
     "output_type": "stream",
     "text": [
      "Error: cannot divide by zero\n"
     ]
    }
   ],
   "source": [
    "def divide_numbers(a, b):\n",
    "    try:\n",
    "        result = a / b\n",
    "    except ZeroDivisionError:\n",
    "        print(\"Error: cannot divide by zero\")\n",
    "        result = None\n",
    "    return result\n",
    "\n",
    "divide_numbers(10, 0)\n"
   ]
  },
  {
   "cell_type": "markdown",
   "id": "6e5a614d-6263-4b54-990b-97b362a91254",
   "metadata": {},
   "source": [
    "# Q4. Why LookupError class is used? Explain with an example KeyError and IndexError.\n",
    "\n",
    "The LookupError class is a built-in Python exception class that serves as the base class for all exceptions that occur when an index or key is not found. This class includes the KeyError and IndexError classes, which are commonly used to handle lookup errors in dictionaries and lists, respectively.\n",
    "\n",
    "Here are examples of KeyError and IndexError and how they can be handled using try-except blocks:\n",
    "\n",
    "KeyError: This error occurs when we try to access a key in a dictionary that doesn't exist. Here's an example:"
   ]
  },
  {
   "cell_type": "code",
   "execution_count": 3,
   "id": "e757f117-8f5b-4ff3-8893-f818228087e6",
   "metadata": {},
   "outputs": [
    {
     "name": "stdout",
     "output_type": "stream",
     "text": [
      "Error: key not found\n"
     ]
    }
   ],
   "source": [
    "person = {\"name\": \"Alice\", \"age\": 30}\n",
    "\n",
    "try:\n",
    "    print(person[\"gender\"])\n",
    "except KeyError:\n",
    "    print(\"Error: key not found\")\n"
   ]
  },
  {
   "cell_type": "markdown",
   "id": "53fb698e-ac48-403c-bda5-bffaf423bb29",
   "metadata": {},
   "source": [
    "In this example, we have a dictionary called person that contains a name and age key. We try to access a non-existent gender key using square bracket notation. Since this key doesn't exist, a KeyError is raised. We catch the KeyError using a try-except block and print an error message.\n",
    "\n",
    "IndexError: This error occurs when we try to access an index in a list that is out of range. Here's an example:"
   ]
  },
  {
   "cell_type": "code",
   "execution_count": 4,
   "id": "43d35ab0-ee41-47bc-ba44-62c2e1894230",
   "metadata": {},
   "outputs": [
    {
     "name": "stdout",
     "output_type": "stream",
     "text": [
      "Error: index out of range\n"
     ]
    }
   ],
   "source": [
    "numbers = [1, 2, 3]\n",
    "\n",
    "try:\n",
    "    print(numbers[3])\n",
    "except IndexError:\n",
    "    print(\"Error: index out of range\")\n"
   ]
  },
  {
   "cell_type": "markdown",
   "id": "8dc034af-f9df-43a6-8555-dc0c0a0599b7",
   "metadata": {},
   "source": [
    "In this example, we have a list called numbers that contains three elements. We try to access the fourth element using square bracket notation. Since this index is out of range, an IndexError is raised. We catch the IndexError using a try-except block and print an error message.\n",
    "\n",
    "By using the KeyError and IndexError classes, we can catch and handle lookup errors in our code to prevent program crashes and provide better user experience."
   ]
  },
  {
   "cell_type": "markdown",
   "id": "dfb0fe78-57f8-4dfe-be97-5d7eee17b1de",
   "metadata": {},
   "source": [
    "# Q5. Explain ImportError. What is ModuleNotFoundError?\n",
    "\n",
    "ImportError is a built-in Python exception that is raised when a module or package is not found or cannot be imported. It occurs when there is an error in the import statement or when the module being imported is not installed or not in the Python search path.\n",
    "\n",
    "ModuleNotFoundError is a subclass of ImportError that is raised when a module is not found. It was introduced in Python 3.6 to provide a more specific error message when a module cannot be found. Before Python 3.6, an ImportError was raised for both module not found and other import errors.\n",
    "\n",
    "Here's an example of ImportError and ModuleNotFoundError:"
   ]
  },
  {
   "cell_type": "code",
   "execution_count": 5,
   "id": "f13a57e2-634c-4a44-b85a-b2f75c9052ba",
   "metadata": {},
   "outputs": [
    {
     "name": "stdout",
     "output_type": "stream",
     "text": [
      "ImportError: Module not found\n",
      "ModuleNotFoundError: Module not found\n"
     ]
    }
   ],
   "source": [
    "try:\n",
    "    import non_existent_module\n",
    "except ImportError:\n",
    "    print(\"ImportError: Module not found\")\n",
    "\n",
    "try:\n",
    "    import non_existent_module\n",
    "except ModuleNotFoundError:\n",
    "    print(\"ModuleNotFoundError: Module not found\")\n"
   ]
  },
  {
   "cell_type": "markdown",
   "id": "9b00668d-7d2f-4304-88d2-4910f6bbb1c0",
   "metadata": {},
   "source": [
    "In this example, we have two try-except blocks that attempt to import a non-existent module called non_existent_module. In the first block, we catch the general ImportError exception, which is raised when any import error occurs, including module not found errors. In the second block, we catch the more specific ModuleNotFoundError exception, which is only raised when a module is not found.\n",
    "\n",
    "Using ModuleNotFoundError instead of ImportError can help us write more precise error handling code that can distinguish between different types of import errors. It can also provide more helpful error messages to users."
   ]
  },
  {
   "cell_type": "markdown",
   "id": "bb9804f8-8dd3-4639-97b3-2f85bb41dee7",
   "metadata": {},
   "source": [
    "# Q6. List down some best practices for exception handling in python."
   ]
  },
  {
   "cell_type": "markdown",
   "id": "96ffdc4a-dbd9-4a5b-874e-fd90e3cf9873",
   "metadata": {},
   "source": [
    "Here are some best practices for exception handling in Python:\n",
    "\n",
    "Be specific: Catch only the exceptions you need to catch and avoid using a catch-all except statement. This will help you write more precise error handling code that can distinguish between different types of exceptions.\n",
    "\n",
    "Handle exceptions gracefully: When an exception occurs, handle it gracefully and provide helpful error messages to users. Avoid letting exceptions crash your program or reveal sensitive information.\n",
    "\n",
    "Use finally blocks: Use finally blocks to execute cleanup code that must be run whether an exception occurred or not. This is especially useful when you need to release resources like file handles or network connections.\n",
    "\n",
    "Reraise exceptions: When you catch an exception, consider reraising it if you cannot handle it in your current context. This will allow the exception to propagate up the call stack and be handled by higher-level code.\n",
    "\n",
    "Don't ignore exceptions: Do not ignore exceptions or leave them unhandled. Ignoring exceptions can cause unexpected behavior or leave security vulnerabilities in your code.\n",
    "\n",
    "Use context managers: Use context managers like with statements to ensure that resources are properly acquired and released. This can help you avoid common errors like forgetting to close file handles.\n",
    "\n",
    "Log exceptions: Use logging to record exceptions and other errors. This can help you debug your code and identify problems more quickly.\n",
    "\n",
    "By following these best practices, you can write more robust, maintainable, and secure code that can handle errors gracefully and provide a better user experience."
   ]
  },
  {
   "cell_type": "code",
   "execution_count": null,
   "id": "dbd42f3b-01f2-4ed5-b738-c6d0a6b3882d",
   "metadata": {},
   "outputs": [],
   "source": []
  }
 ],
 "metadata": {
  "kernelspec": {
   "display_name": "Python 3 (ipykernel)",
   "language": "python",
   "name": "python3"
  },
  "language_info": {
   "codemirror_mode": {
    "name": "ipython",
    "version": 3
   },
   "file_extension": ".py",
   "mimetype": "text/x-python",
   "name": "python",
   "nbconvert_exporter": "python",
   "pygments_lexer": "ipython3",
   "version": "3.10.8"
  }
 },
 "nbformat": 4,
 "nbformat_minor": 5
}
