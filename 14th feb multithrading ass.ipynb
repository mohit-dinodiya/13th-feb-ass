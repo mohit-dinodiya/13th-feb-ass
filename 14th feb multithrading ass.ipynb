{
 "cells": [
  {
   "cell_type": "markdown",
   "id": "35e93c3d-6fe1-4fd5-bc9f-d9e51a246d2e",
   "metadata": {},
   "source": [
    "# 1). what is multithreading in python? why is it used? Name the module used to handle threads in python?\n",
    "\n",
    "Multithreading in Python refers to the ability of a program to execute multiple threads (or paths of execution) simultaneously within a single process. In other words, it allows a program to perform multiple tasks at the same time by splitting a larger task into smaller sub-tasks that can be executed independently.\n",
    "\n",
    "Multithreading is used in Python for a variety of reasons, such as improving performance by taking advantage of multiple CPU cores, enabling the program to be more responsive by allowing it to perform other tasks while waiting for a slow operation to complete, and for handling input and output operations more efficiently.\n",
    "\n",
    "The module used to handle threads in Python is called threading. It provides a simple and intuitive way to create and manage threads within a Python program. With the threading module, you can create new threads, start and stop them, and communicate between threads using shared variables and locks."
   ]
  },
  {
   "cell_type": "markdown",
   "id": "48ecc897-6dd1-4892-86d6-0abbc1a675dc",
   "metadata": {},
   "source": [
    "# 2)  why threading module used? write the use of the following functions?\n",
    "# activeCount() \n",
    "# currentThread()\n",
    "# enumerate()"
   ]
  },
  {
   "cell_type": "markdown",
   "id": "bb493b93-486d-4469-ba13-e6879e953bbe",
   "metadata": {},
   "source": [
    "The threading module in Python is used to create, manage, and control threads in a Python program. It provides a simple and intuitive way to work with multiple threads of execution within a single process.\n",
    "\n",
    "Here are the uses of the following functions provided by the threading module:\n",
    "\n",
    "activeCount(): This function returns the number of thread objects that are currently active in the Python interpreter. This can be useful for monitoring the progress of a program that uses multiple threads.\n",
    "\n",
    "currentThread(): This function returns a reference to the currently executing thread object. This can be useful for debugging and for coordinating actions between threads.\n",
    "\n",
    "enumerate(): This function returns a list of all thread objects that are currently active in the Python interpreter. Each element in the list is a reference to a thread object, which can be used to query the status of the thread or to interact with it in some other way. This can be useful for debugging and for monitoring the progress of a program that uses multiple threads."
   ]
  },
  {
   "cell_type": "markdown",
   "id": "627e8a91-9de4-4dd1-83d1-4bf4d835157d",
   "metadata": {},
   "source": [
    "# 3. Explain the following functions\n",
    "# run()\n",
    "# start()\n",
    "# join()\n",
    "# isAlive()"
   ]
  },
  {
   "cell_type": "markdown",
   "id": "8058a039-6151-476d-b6ff-6c0ec15d30fc",
   "metadata": {},
   "source": [
    "The following are the functions provided by the threading module in Python, along with their explanations:\n",
    "\n",
    "run(): The run() method is the entry point for a thread, and it contains the code that will be executed in the thread. It is called automatically when a thread is started using the start() method. In most cases, you will need to subclass the threading.Thread class and override the run() method with your own code.\n",
    "\n",
    "start(): The start() method is used to start a new thread of execution. It creates a new thread object, calls its run() method, and starts the thread execution. Once a thread is started, it will run concurrently with the other threads in the program until it completes or is terminated.\n",
    "\n",
    "join(): The join() method is used to wait for a thread to complete its execution. When you call the join() method on a thread, the calling thread will block and wait for the target thread to complete. This is useful when you need to coordinate the execution of multiple threads, or when you need to ensure that a thread has completed its work before continuing with the rest of the program.\n",
    "\n",
    "isAlive(): The isAlive() method is used to check whether a thread is currently executing or not. It returns True if the thread is currently running, and False otherwise. This method can be useful for monitoring the progress of a long-running thread, or for checking whether a thread has completed its work before joining it."
   ]
  },
  {
   "cell_type": "markdown",
   "id": "5f5d644c-ce6d-4857-9113-10bb670f3106",
   "metadata": {},
   "source": [
    "# 6. Explain deadlocks and race conditions.\n",
    "Deadlocks and race conditions are two common types of concurrency issues that can occur in multi-threaded programs:\n",
    "\n",
    "Deadlocks: A deadlock occurs when two or more threads are waiting for each other to release a resource that they need in order to proceed. In other words, each thread is holding a resource that the other thread needs, resulting in a \"deadlock\" where neither thread can proceed. Deadlocks can occur when locks are not acquired or released in the correct order, or when locks are held for too long, blocking other threads from accessing the same resource.\n",
    "\n",
    "Race conditions: A race condition occurs when the behavior of a program depends on the order in which threads execute, and this order is unpredictable or inconsistent. In other words, the outcome of the program is not deterministic and can vary depending on the timing of thread execution. Race conditions can occur when multiple threads access and modify shared resources concurrently, without proper synchronization. For example, if two threads increment a shared variable at the same time, the result may be incorrect if they do not use locking mechanisms or atomic operations to ensure that only one thread can access the variable at a time.\n",
    "\n",
    "Both deadlocks and race conditions can lead to unpredictable and undesirable behavior in a multi-threaded program. To avoid these issues, it is important to use proper synchronization mechanisms, such as locks, semaphores, and mutexes, to coordinate access to shared resources and prevent conflicting updates. Additionally, it is important to ensure that locks are acquired and released in a consistent and predictable order to avoid deadlocks. Proper design and testing can help to identify and mitigate these types of issues before they occur in production"
   ]
  },
  {
   "cell_type": "markdown",
   "id": "7e9816d0-a6fe-4b58-a34c-293e1534c0a5",
   "metadata": {},
   "source": [
    "# 5. State advantages and disadvantages of multithreading\n",
    "\n",
    "Multithreading is a powerful technique for improving the performance and responsiveness of a program. Some of the advantages of multithreading include:\n",
    "\n",
    "Improved performance: Multithreading can improve the performance of a program by allowing it to take advantage of multiple CPU cores or processors. This can lead to faster execution times and increased throughput.\n",
    "\n",
    "Better resource utilization: Multithreading can help to better utilize system resources, such as memory and I/O devices, by allowing multiple threads to share access to them. This can reduce wait times and increase overall efficiency.\n",
    "\n",
    "Increased responsiveness: Multithreading can improve the responsiveness of a program by allowing it to perform other tasks while waiting for slow operations to complete. For example, a graphical user interface can remain responsive even while a long-running operation is executing in the background.\n",
    "\n",
    "Better modularity and maintainability: Multithreading can help to improve the modularity and maintainability of a program by allowing complex tasks to be broken down into smaller, more manageable sub-tasks that can be executed concurrently.\n",
    "\n",
    "However, multithreading also has some disadvantages, including:\n",
    "\n",
    "Increased complexity: Multithreaded programs can be more complex to design, implement, and debug than single-threaded programs. This is because of the need to coordinate access to shared resources and prevent concurrency issues such as deadlocks and race conditions.\n",
    "\n",
    "Increased memory usage: Multithreaded programs can use more memory than single-threaded programs because each thread requires its own stack and program counter.\n",
    "\n",
    "Synchronization overhead: Synchronization mechanisms such as locks and semaphores can introduce overhead and reduce performance in multithreaded programs.\n",
    "\n",
    "Non-deterministic behavior: Multithreaded programs can exhibit non-deterministic behavior due to race conditions and other concurrency issues. This can make it difficult to reproduce and debug problems."
   ]
  },
  {
   "cell_type": "markdown",
   "id": "f6acf252-b1ab-4147-a6cd-99b251412c75",
   "metadata": {},
   "source": [
    "# 4. write a python program to create two threads. Thread one must print the list of squares and thread two must print the list of cubes?"
   ]
  },
  {
   "cell_type": "code",
   "execution_count": 1,
   "id": "0c3b7939-f84c-443a-87b1-c282d1622424",
   "metadata": {},
   "outputs": [
    {
     "name": "stdout",
     "output_type": "stream",
     "text": [
      "0\n",
      "1\n",
      "4\n",
      "9\n",
      "16\n",
      "25\n",
      "36\n",
      "49\n",
      "64\n",
      "81\n",
      "0\n",
      "1\n",
      "8\n",
      "27\n",
      "64\n",
      "125\n",
      "216\n",
      "343\n",
      "512\n",
      "729\n"
     ]
    }
   ],
   "source": [
    "import threading\n",
    "\n",
    "def print_squares(n):\n",
    "    for i in range(n):\n",
    "        print(i*i)\n",
    "\n",
    "def print_cubes(n):\n",
    "    for i in range(n):\n",
    "        print(i*i*i)\n",
    "\n",
    "if __name__ == '__main__':\n",
    "    n = 10\n",
    "    t1 = threading.Thread(target=print_squares, args=(n,))\n",
    "    t2 = threading.Thread(target=print_cubes, args=(n,))\n",
    "    t1.start()\n",
    "    t2.start()\n",
    "    t1.join()\n",
    "    t2.join()\n"
   ]
  },
  {
   "cell_type": "markdown",
   "id": "2943e9f6-7ee1-40bb-b1fd-9901dffa4772",
   "metadata": {},
   "source": [
    "In this program, we define two functions print_squares() and print_cubes() that print the list of squares and cubes, respectively. We then create two threads t1 and t2, and assign them to each function using the target argument. We also pass the argument n to each function using the args argument.\n",
    "\n",
    "Finally, we start both threads using the start() method, which causes them to execute concurrently. We then wait for both threads to complete using the join() method, which ensures that the main thread waits for both threads to finish before exiting. When we run this program, it will print the list of squares and cubes, interleaved in an unpredictable order, but both will be printed concurrently."
   ]
  },
  {
   "cell_type": "code",
   "execution_count": null,
   "id": "b0f94efe-d32f-4422-ac8a-1d47b6c25686",
   "metadata": {},
   "outputs": [],
   "source": []
  }
 ],
 "metadata": {
  "kernelspec": {
   "display_name": "Python 3 (ipykernel)",
   "language": "python",
   "name": "python3"
  },
  "language_info": {
   "codemirror_mode": {
    "name": "ipython",
    "version": 3
   },
   "file_extension": ".py",
   "mimetype": "text/x-python",
   "name": "python",
   "nbconvert_exporter": "python",
   "pygments_lexer": "ipython3",
   "version": "3.10.8"
  }
 },
 "nbformat": 4,
 "nbformat_minor": 5
}
